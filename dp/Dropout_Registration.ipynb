{
 "cells": [
  {
   "cell_type": "code",
   "execution_count": 5,
   "metadata": {},
   "outputs": [],
   "source": [
    "import numpy as np\n",
    "import pandas as pd\n",
    "import matplotlib.pyplot as plt\n",
    "import seaborn as sns\n",
    "import tensorflow as tf\n",
    "from tensorflow import keras\n",
    "import warnings"
   ]
  },
  {
   "cell_type": "code",
   "execution_count": 6,
   "metadata": {},
   "outputs": [
    {
     "data": {
      "text/html": [
       "<div>\n",
       "<style scoped>\n",
       "    .dataframe tbody tr th:only-of-type {\n",
       "        vertical-align: middle;\n",
       "    }\n",
       "\n",
       "    .dataframe tbody tr th {\n",
       "        vertical-align: top;\n",
       "    }\n",
       "\n",
       "    .dataframe thead th {\n",
       "        text-align: right;\n",
       "    }\n",
       "</style>\n",
       "<table border=\"1\" class=\"dataframe\">\n",
       "  <thead>\n",
       "    <tr style=\"text-align: right;\">\n",
       "      <th></th>\n",
       "      <th>0</th>\n",
       "      <th>1</th>\n",
       "      <th>2</th>\n",
       "      <th>3</th>\n",
       "      <th>4</th>\n",
       "      <th>5</th>\n",
       "      <th>6</th>\n",
       "      <th>7</th>\n",
       "      <th>8</th>\n",
       "      <th>9</th>\n",
       "      <th>...</th>\n",
       "      <th>51</th>\n",
       "      <th>52</th>\n",
       "      <th>53</th>\n",
       "      <th>54</th>\n",
       "      <th>55</th>\n",
       "      <th>56</th>\n",
       "      <th>57</th>\n",
       "      <th>58</th>\n",
       "      <th>59</th>\n",
       "      <th>60</th>\n",
       "    </tr>\n",
       "  </thead>\n",
       "  <tbody>\n",
       "    <tr>\n",
       "      <th>57</th>\n",
       "      <td>0.0216</td>\n",
       "      <td>0.0124</td>\n",
       "      <td>0.0174</td>\n",
       "      <td>0.0152</td>\n",
       "      <td>0.0608</td>\n",
       "      <td>0.1026</td>\n",
       "      <td>0.1139</td>\n",
       "      <td>0.0877</td>\n",
       "      <td>0.1160</td>\n",
       "      <td>0.0866</td>\n",
       "      <td>...</td>\n",
       "      <td>0.0052</td>\n",
       "      <td>0.0049</td>\n",
       "      <td>0.0096</td>\n",
       "      <td>0.0134</td>\n",
       "      <td>0.0122</td>\n",
       "      <td>0.0047</td>\n",
       "      <td>0.0018</td>\n",
       "      <td>0.0006</td>\n",
       "      <td>0.0023</td>\n",
       "      <td>R</td>\n",
       "    </tr>\n",
       "    <tr>\n",
       "      <th>7</th>\n",
       "      <td>0.0519</td>\n",
       "      <td>0.0548</td>\n",
       "      <td>0.0842</td>\n",
       "      <td>0.0319</td>\n",
       "      <td>0.1158</td>\n",
       "      <td>0.0922</td>\n",
       "      <td>0.1027</td>\n",
       "      <td>0.0613</td>\n",
       "      <td>0.1465</td>\n",
       "      <td>0.2838</td>\n",
       "      <td>...</td>\n",
       "      <td>0.0081</td>\n",
       "      <td>0.0120</td>\n",
       "      <td>0.0045</td>\n",
       "      <td>0.0121</td>\n",
       "      <td>0.0097</td>\n",
       "      <td>0.0085</td>\n",
       "      <td>0.0047</td>\n",
       "      <td>0.0048</td>\n",
       "      <td>0.0053</td>\n",
       "      <td>R</td>\n",
       "    </tr>\n",
       "    <tr>\n",
       "      <th>152</th>\n",
       "      <td>0.0131</td>\n",
       "      <td>0.0201</td>\n",
       "      <td>0.0045</td>\n",
       "      <td>0.0217</td>\n",
       "      <td>0.0230</td>\n",
       "      <td>0.0481</td>\n",
       "      <td>0.0742</td>\n",
       "      <td>0.0333</td>\n",
       "      <td>0.1369</td>\n",
       "      <td>0.2079</td>\n",
       "      <td>...</td>\n",
       "      <td>0.0168</td>\n",
       "      <td>0.0086</td>\n",
       "      <td>0.0045</td>\n",
       "      <td>0.0062</td>\n",
       "      <td>0.0065</td>\n",
       "      <td>0.0030</td>\n",
       "      <td>0.0066</td>\n",
       "      <td>0.0029</td>\n",
       "      <td>0.0053</td>\n",
       "      <td>M</td>\n",
       "    </tr>\n",
       "    <tr>\n",
       "      <th>135</th>\n",
       "      <td>0.0094</td>\n",
       "      <td>0.0611</td>\n",
       "      <td>0.1136</td>\n",
       "      <td>0.1203</td>\n",
       "      <td>0.0403</td>\n",
       "      <td>0.1227</td>\n",
       "      <td>0.2495</td>\n",
       "      <td>0.4566</td>\n",
       "      <td>0.6587</td>\n",
       "      <td>0.5079</td>\n",
       "      <td>...</td>\n",
       "      <td>0.0234</td>\n",
       "      <td>0.0175</td>\n",
       "      <td>0.0352</td>\n",
       "      <td>0.0158</td>\n",
       "      <td>0.0326</td>\n",
       "      <td>0.0201</td>\n",
       "      <td>0.0168</td>\n",
       "      <td>0.0245</td>\n",
       "      <td>0.0154</td>\n",
       "      <td>M</td>\n",
       "    </tr>\n",
       "    <tr>\n",
       "      <th>48</th>\n",
       "      <td>0.0190</td>\n",
       "      <td>0.0038</td>\n",
       "      <td>0.0642</td>\n",
       "      <td>0.0452</td>\n",
       "      <td>0.0333</td>\n",
       "      <td>0.0690</td>\n",
       "      <td>0.0901</td>\n",
       "      <td>0.1454</td>\n",
       "      <td>0.0740</td>\n",
       "      <td>0.0349</td>\n",
       "      <td>...</td>\n",
       "      <td>0.0093</td>\n",
       "      <td>0.0118</td>\n",
       "      <td>0.0112</td>\n",
       "      <td>0.0094</td>\n",
       "      <td>0.0140</td>\n",
       "      <td>0.0072</td>\n",
       "      <td>0.0022</td>\n",
       "      <td>0.0055</td>\n",
       "      <td>0.0122</td>\n",
       "      <td>R</td>\n",
       "    </tr>\n",
       "  </tbody>\n",
       "</table>\n",
       "<p>5 rows × 61 columns</p>\n",
       "</div>"
      ],
      "text/plain": [
       "         0       1       2       3       4       5       6       7       8   \\\n",
       "57   0.0216  0.0124  0.0174  0.0152  0.0608  0.1026  0.1139  0.0877  0.1160   \n",
       "7    0.0519  0.0548  0.0842  0.0319  0.1158  0.0922  0.1027  0.0613  0.1465   \n",
       "152  0.0131  0.0201  0.0045  0.0217  0.0230  0.0481  0.0742  0.0333  0.1369   \n",
       "135  0.0094  0.0611  0.1136  0.1203  0.0403  0.1227  0.2495  0.4566  0.6587   \n",
       "48   0.0190  0.0038  0.0642  0.0452  0.0333  0.0690  0.0901  0.1454  0.0740   \n",
       "\n",
       "         9   ...      51      52      53      54      55      56      57  \\\n",
       "57   0.0866  ...  0.0052  0.0049  0.0096  0.0134  0.0122  0.0047  0.0018   \n",
       "7    0.2838  ...  0.0081  0.0120  0.0045  0.0121  0.0097  0.0085  0.0047   \n",
       "152  0.2079  ...  0.0168  0.0086  0.0045  0.0062  0.0065  0.0030  0.0066   \n",
       "135  0.5079  ...  0.0234  0.0175  0.0352  0.0158  0.0326  0.0201  0.0168   \n",
       "48   0.0349  ...  0.0093  0.0118  0.0112  0.0094  0.0140  0.0072  0.0022   \n",
       "\n",
       "         58      59  60  \n",
       "57   0.0006  0.0023   R  \n",
       "7    0.0048  0.0053   R  \n",
       "152  0.0029  0.0053   M  \n",
       "135  0.0245  0.0154   M  \n",
       "48   0.0055  0.0122   R  \n",
       "\n",
       "[5 rows x 61 columns]"
      ]
     },
     "execution_count": 6,
     "metadata": {},
     "output_type": "execute_result"
    }
   ],
   "source": [
    "warnings.filterwarnings('ignore')\n",
    "df = pd.read_csv('sonar_dataset.csv', header=None)\n",
    "df.sample(5)"
   ]
  },
  {
   "cell_type": "code",
   "execution_count": 7,
   "metadata": {},
   "outputs": [
    {
     "data": {
      "text/plain": [
       "(208, 61)"
      ]
     },
     "execution_count": 7,
     "metadata": {},
     "output_type": "execute_result"
    }
   ],
   "source": [
    "df.shape"
   ]
  },
  {
   "cell_type": "code",
   "execution_count": 14,
   "metadata": {},
   "outputs": [
    {
     "data": {
      "text/plain": [
       "0     float64\n",
       "1     float64\n",
       "2     float64\n",
       "3     float64\n",
       "4     float64\n",
       "       ...   \n",
       "56    float64\n",
       "57    float64\n",
       "58    float64\n",
       "59    float64\n",
       "60     object\n",
       "Length: 61, dtype: object"
      ]
     },
     "execution_count": 14,
     "metadata": {},
     "output_type": "execute_result"
    }
   ],
   "source": [
    "df.dtypes"
   ]
  },
  {
   "cell_type": "code",
   "execution_count": 16,
   "metadata": {},
   "outputs": [
    {
     "data": {
      "text/plain": [
       "0     0\n",
       "1     0\n",
       "2     0\n",
       "3     0\n",
       "4     0\n",
       "     ..\n",
       "56    0\n",
       "57    0\n",
       "58    0\n",
       "59    0\n",
       "60    0\n",
       "Length: 61, dtype: int64"
      ]
     },
     "execution_count": 16,
     "metadata": {},
     "output_type": "execute_result"
    }
   ],
   "source": [
    "df.isna().sum()"
   ]
  },
  {
   "cell_type": "code",
   "execution_count": 17,
   "metadata": {},
   "outputs": [
    {
     "data": {
      "text/plain": [
       "M    111\n",
       "R     97\n",
       "Name: 60, dtype: int64"
      ]
     },
     "execution_count": 17,
     "metadata": {},
     "output_type": "execute_result"
    }
   ],
   "source": [
    "df[60].value_counts()"
   ]
  },
  {
   "cell_type": "code",
   "execution_count": 22,
   "metadata": {},
   "outputs": [],
   "source": [
    "X = df.drop(60, axis = 'columns')\n",
    "y = df[60]\n"
   ]
  },
  {
   "cell_type": "code",
   "execution_count": 27,
   "metadata": {},
   "outputs": [
    {
     "data": {
      "text/plain": [
       "R\n",
       "0    111\n",
       "1     97\n",
       "dtype: int64"
      ]
     },
     "execution_count": 27,
     "metadata": {},
     "output_type": "execute_result"
    }
   ],
   "source": [
    "y = pd.get_dummies(y, drop_first=True)\n",
    "y.value_counts()"
   ]
  },
  {
   "cell_type": "code",
   "execution_count": 29,
   "metadata": {},
   "outputs": [],
   "source": [
    "from sklearn.model_selection import train_test_split\n",
    "X_train, X_test, y_train, y_test = train_test_split(X,y, test_size=0.25, random_state=1)"
   ]
  },
  {
   "cell_type": "code",
   "execution_count": 30,
   "metadata": {},
   "outputs": [
    {
     "data": {
      "text/plain": [
       "(156, 60)"
      ]
     },
     "execution_count": 30,
     "metadata": {},
     "output_type": "execute_result"
    }
   ],
   "source": [
    "X_train.shape"
   ]
  },
  {
   "cell_type": "code",
   "execution_count": 31,
   "metadata": {},
   "outputs": [
    {
     "data": {
      "text/plain": [
       "(52, 60)"
      ]
     },
     "execution_count": 31,
     "metadata": {},
     "output_type": "execute_result"
    }
   ],
   "source": [
    "X_test.shape"
   ]
  },
  {
   "cell_type": "code",
   "execution_count": 32,
   "metadata": {},
   "outputs": [
    {
     "name": "stdout",
     "output_type": "stream",
     "text": [
      "Epoch 1/100\n",
      "20/20 [==============================] - 0s 7ms/step - loss: 0.6993 - accuracy: 0.4936\n",
      "Epoch 2/100\n",
      "20/20 [==============================] - 0s 7ms/step - loss: 0.6831 - accuracy: 0.6603\n",
      "Epoch 3/100\n",
      "20/20 [==============================] - 0s 7ms/step - loss: 0.6656 - accuracy: 0.6154\n",
      "Epoch 4/100\n",
      "20/20 [==============================] - 0s 11ms/step - loss: 0.6443 - accuracy: 0.6474\n",
      "Epoch 5/100\n",
      "20/20 [==============================] - 0s 12ms/step - loss: 0.6283 - accuracy: 0.6795\n",
      "Epoch 6/100\n",
      "20/20 [==============================] - 0s 12ms/step - loss: 0.5884 - accuracy: 0.7564\n",
      "Epoch 7/100\n",
      "20/20 [==============================] - 0s 12ms/step - loss: 0.5721 - accuracy: 0.6987\n",
      "Epoch 8/100\n",
      "20/20 [==============================] - 0s 12ms/step - loss: 0.5226 - accuracy: 0.7949\n",
      "Epoch 9/100\n",
      "20/20 [==============================] - 0s 12ms/step - loss: 0.5072 - accuracy: 0.7756\n",
      "Epoch 10/100\n",
      "20/20 [==============================] - 0s 12ms/step - loss: 0.4616 - accuracy: 0.8205\n",
      "Epoch 11/100\n",
      "20/20 [==============================] - 0s 12ms/step - loss: 0.4444 - accuracy: 0.8013\n",
      "Epoch 12/100\n",
      "20/20 [==============================] - 0s 12ms/step - loss: 0.4436 - accuracy: 0.8077\n",
      "Epoch 13/100\n",
      "20/20 [==============================] - 0s 12ms/step - loss: 0.4221 - accuracy: 0.8462\n",
      "Epoch 14/100\n",
      "20/20 [==============================] - 0s 12ms/step - loss: 0.3889 - accuracy: 0.8462\n",
      "Epoch 15/100\n",
      "20/20 [==============================] - 0s 12ms/step - loss: 0.3708 - accuracy: 0.8526\n",
      "Epoch 16/100\n",
      "20/20 [==============================] - 0s 12ms/step - loss: 0.3665 - accuracy: 0.8526\n",
      "Epoch 17/100\n",
      "20/20 [==============================] - 0s 12ms/step - loss: 0.3467 - accuracy: 0.8654\n",
      "Epoch 18/100\n",
      "20/20 [==============================] - 0s 12ms/step - loss: 0.3215 - accuracy: 0.8654\n",
      "Epoch 19/100\n",
      "20/20 [==============================] - 0s 12ms/step - loss: 0.3419 - accuracy: 0.8333\n",
      "Epoch 20/100\n",
      "20/20 [==============================] - 0s 12ms/step - loss: 0.3346 - accuracy: 0.8590\n",
      "Epoch 21/100\n",
      "20/20 [==============================] - 0s 12ms/step - loss: 0.3092 - accuracy: 0.8846\n",
      "Epoch 22/100\n",
      "20/20 [==============================] - 0s 12ms/step - loss: 0.2913 - accuracy: 0.8974\n",
      "Epoch 23/100\n",
      "20/20 [==============================] - 0s 12ms/step - loss: 0.3133 - accuracy: 0.8590\n",
      "Epoch 24/100\n",
      "20/20 [==============================] - 0s 12ms/step - loss: 0.2931 - accuracy: 0.8782\n",
      "Epoch 25/100\n",
      "20/20 [==============================] - 0s 12ms/step - loss: 0.3022 - accuracy: 0.8462\n",
      "Epoch 26/100\n",
      "20/20 [==============================] - 0s 12ms/step - loss: 0.2634 - accuracy: 0.9103\n",
      "Epoch 27/100\n",
      "20/20 [==============================] - 0s 12ms/step - loss: 0.2539 - accuracy: 0.9167\n",
      "Epoch 28/100\n",
      "20/20 [==============================] - 0s 12ms/step - loss: 0.2375 - accuracy: 0.9231\n",
      "Epoch 29/100\n",
      "20/20 [==============================] - 0s 12ms/step - loss: 0.2351 - accuracy: 0.8910\n",
      "Epoch 30/100\n",
      "20/20 [==============================] - 0s 12ms/step - loss: 0.2322 - accuracy: 0.9038\n",
      "Epoch 31/100\n",
      "20/20 [==============================] - 0s 12ms/step - loss: 0.2002 - accuracy: 0.9231\n",
      "Epoch 32/100\n",
      "20/20 [==============================] - 0s 12ms/step - loss: 0.1902 - accuracy: 0.9423\n",
      "Epoch 33/100\n",
      "20/20 [==============================] - 0s 12ms/step - loss: 0.1875 - accuracy: 0.9423\n",
      "Epoch 34/100\n",
      "20/20 [==============================] - 0s 12ms/step - loss: 0.1854 - accuracy: 0.9167\n",
      "Epoch 35/100\n",
      "20/20 [==============================] - 0s 12ms/step - loss: 0.1723 - accuracy: 0.9359\n",
      "Epoch 36/100\n",
      "20/20 [==============================] - 0s 12ms/step - loss: 0.1636 - accuracy: 0.9551\n",
      "Epoch 37/100\n",
      "20/20 [==============================] - 0s 12ms/step - loss: 0.1578 - accuracy: 0.9487\n",
      "Epoch 38/100\n",
      "20/20 [==============================] - 0s 12ms/step - loss: 0.1352 - accuracy: 0.9551\n",
      "Epoch 39/100\n",
      "20/20 [==============================] - 0s 12ms/step - loss: 0.1349 - accuracy: 0.9679\n",
      "Epoch 40/100\n",
      "20/20 [==============================] - 0s 12ms/step - loss: 0.1340 - accuracy: 0.9679\n",
      "Epoch 41/100\n",
      "20/20 [==============================] - 0s 12ms/step - loss: 0.1101 - accuracy: 0.9808\n",
      "Epoch 42/100\n",
      "20/20 [==============================] - 0s 12ms/step - loss: 0.1162 - accuracy: 0.9744\n",
      "Epoch 43/100\n",
      "20/20 [==============================] - 0s 12ms/step - loss: 0.1131 - accuracy: 0.9679\n",
      "Epoch 44/100\n",
      "20/20 [==============================] - 0s 12ms/step - loss: 0.0900 - accuracy: 0.9808\n",
      "Epoch 45/100\n",
      "20/20 [==============================] - 0s 13ms/step - loss: 0.1059 - accuracy: 0.9808\n",
      "Epoch 46/100\n",
      "20/20 [==============================] - 0s 12ms/step - loss: 0.0984 - accuracy: 0.9744\n",
      "Epoch 47/100\n",
      "20/20 [==============================] - 0s 12ms/step - loss: 0.0910 - accuracy: 0.9615\n",
      "Epoch 48/100\n",
      "20/20 [==============================] - 0s 12ms/step - loss: 0.0746 - accuracy: 0.9872\n",
      "Epoch 49/100\n",
      "20/20 [==============================] - 0s 12ms/step - loss: 0.0710 - accuracy: 0.9872\n",
      "Epoch 50/100\n",
      "20/20 [==============================] - 0s 12ms/step - loss: 0.0634 - accuracy: 1.0000\n",
      "Epoch 51/100\n",
      "20/20 [==============================] - 0s 12ms/step - loss: 0.0618 - accuracy: 0.9872\n",
      "Epoch 52/100\n",
      "20/20 [==============================] - 0s 13ms/step - loss: 0.0576 - accuracy: 0.9936\n",
      "Epoch 53/100\n",
      "20/20 [==============================] - 0s 12ms/step - loss: 0.0557 - accuracy: 1.0000\n",
      "Epoch 54/100\n",
      "20/20 [==============================] - 0s 12ms/step - loss: 0.0495 - accuracy: 1.0000\n",
      "Epoch 55/100\n",
      "20/20 [==============================] - 0s 13ms/step - loss: 0.0437 - accuracy: 0.9936\n",
      "Epoch 56/100\n",
      "20/20 [==============================] - 0s 12ms/step - loss: 0.0409 - accuracy: 1.0000\n",
      "Epoch 57/100\n",
      "20/20 [==============================] - 0s 12ms/step - loss: 0.0541 - accuracy: 1.0000\n",
      "Epoch 58/100\n",
      "20/20 [==============================] - 0s 8ms/step - loss: 0.0605 - accuracy: 0.9808\n",
      "Epoch 59/100\n",
      "20/20 [==============================] - 0s 8ms/step - loss: 0.0371 - accuracy: 0.9936\n",
      "Epoch 60/100\n",
      "20/20 [==============================] - 0s 8ms/step - loss: 0.0322 - accuracy: 1.0000\n",
      "Epoch 61/100\n",
      "20/20 [==============================] - 0s 8ms/step - loss: 0.0276 - accuracy: 1.0000\n",
      "Epoch 62/100\n",
      "20/20 [==============================] - 0s 8ms/step - loss: 0.0251 - accuracy: 1.0000\n",
      "Epoch 63/100\n",
      "20/20 [==============================] - 0s 7ms/step - loss: 0.0243 - accuracy: 1.0000\n",
      "Epoch 64/100\n",
      "20/20 [==============================] - 0s 8ms/step - loss: 0.0242 - accuracy: 1.0000\n",
      "Epoch 65/100\n",
      "20/20 [==============================] - 0s 8ms/step - loss: 0.0281 - accuracy: 0.9936\n",
      "Epoch 66/100\n",
      "20/20 [==============================] - 0s 8ms/step - loss: 0.0211 - accuracy: 1.0000\n",
      "Epoch 67/100\n",
      "20/20 [==============================] - 0s 8ms/step - loss: 0.0193 - accuracy: 1.0000\n",
      "Epoch 68/100\n",
      "20/20 [==============================] - 0s 10ms/step - loss: 0.0168 - accuracy: 1.0000\n",
      "Epoch 69/100\n",
      "20/20 [==============================] - 0s 10ms/step - loss: 0.0156 - accuracy: 1.0000\n",
      "Epoch 70/100\n",
      "20/20 [==============================] - 0s 11ms/step - loss: 0.0170 - accuracy: 1.0000\n",
      "Epoch 71/100\n",
      "20/20 [==============================] - 0s 11ms/step - loss: 0.0139 - accuracy: 1.0000\n",
      "Epoch 72/100\n",
      "20/20 [==============================] - 0s 11ms/step - loss: 0.0130 - accuracy: 1.0000\n",
      "Epoch 73/100\n",
      "20/20 [==============================] - 0s 11ms/step - loss: 0.0140 - accuracy: 1.0000\n",
      "Epoch 74/100\n",
      "20/20 [==============================] - 0s 11ms/step - loss: 0.0115 - accuracy: 1.0000\n",
      "Epoch 75/100\n",
      "20/20 [==============================] - 0s 11ms/step - loss: 0.0120 - accuracy: 1.0000\n",
      "Epoch 76/100\n",
      "20/20 [==============================] - 0s 11ms/step - loss: 0.0100 - accuracy: 1.0000\n",
      "Epoch 77/100\n",
      "20/20 [==============================] - 0s 11ms/step - loss: 0.0157 - accuracy: 1.0000\n",
      "Epoch 78/100\n",
      "20/20 [==============================] - 0s 11ms/step - loss: 0.0169 - accuracy: 1.0000\n",
      "Epoch 79/100\n",
      "20/20 [==============================] - 0s 11ms/step - loss: 0.0099 - accuracy: 1.0000\n",
      "Epoch 80/100\n",
      "20/20 [==============================] - 0s 11ms/step - loss: 0.0100 - accuracy: 1.0000\n",
      "Epoch 81/100\n",
      "20/20 [==============================] - 0s 11ms/step - loss: 0.0160 - accuracy: 1.0000\n",
      "Epoch 82/100\n"
     ]
    },
    {
     "name": "stdout",
     "output_type": "stream",
     "text": [
      "20/20 [==============================] - 0s 11ms/step - loss: 0.0083 - accuracy: 1.0000\n",
      "Epoch 83/100\n",
      "20/20 [==============================] - 0s 10ms/step - loss: 0.0082 - accuracy: 1.0000\n",
      "Epoch 84/100\n",
      "20/20 [==============================] - 0s 10ms/step - loss: 0.0069 - accuracy: 1.0000\n",
      "Epoch 85/100\n",
      "20/20 [==============================] - 0s 12ms/step - loss: 0.0121 - accuracy: 1.0000\n",
      "Epoch 86/100\n",
      "20/20 [==============================] - 0s 12ms/step - loss: 0.0091 - accuracy: 1.0000\n",
      "Epoch 87/100\n",
      "20/20 [==============================] - 0s 11ms/step - loss: 0.0058 - accuracy: 1.0000\n",
      "Epoch 88/100\n",
      "20/20 [==============================] - 0s 12ms/step - loss: 0.0055 - accuracy: 1.0000\n",
      "Epoch 89/100\n",
      "20/20 [==============================] - 0s 12ms/step - loss: 0.0056 - accuracy: 1.0000\n",
      "Epoch 90/100\n",
      "20/20 [==============================] - 0s 12ms/step - loss: 0.0056 - accuracy: 1.0000\n",
      "Epoch 91/100\n",
      "20/20 [==============================] - 0s 12ms/step - loss: 0.0048 - accuracy: 1.0000\n",
      "Epoch 92/100\n",
      "20/20 [==============================] - 0s 12ms/step - loss: 0.0042 - accuracy: 1.0000\n",
      "Epoch 93/100\n",
      "20/20 [==============================] - 0s 12ms/step - loss: 0.0048 - accuracy: 1.0000\n",
      "Epoch 94/100\n",
      "20/20 [==============================] - 0s 12ms/step - loss: 0.0040 - accuracy: 1.0000\n",
      "Epoch 95/100\n",
      "20/20 [==============================] - 0s 12ms/step - loss: 0.0041 - accuracy: 1.0000\n",
      "Epoch 96/100\n",
      "20/20 [==============================] - 0s 12ms/step - loss: 0.0036 - accuracy: 1.0000\n",
      "Epoch 97/100\n",
      "20/20 [==============================] - 0s 13ms/step - loss: 0.0043 - accuracy: 1.0000\n",
      "Epoch 98/100\n",
      "20/20 [==============================] - 0s 12ms/step - loss: 0.0034 - accuracy: 1.0000\n",
      "Epoch 99/100\n",
      "20/20 [==============================] - 0s 12ms/step - loss: 0.0033 - accuracy: 1.0000\n",
      "Epoch 100/100\n",
      "20/20 [==============================] - 0s 12ms/step - loss: 0.0035 - accuracy: 1.0000\n"
     ]
    },
    {
     "data": {
      "text/plain": [
       "<tensorflow.python.keras.callbacks.History at 0x17b0fde4ac0>"
      ]
     },
     "execution_count": 32,
     "metadata": {},
     "output_type": "execute_result"
    }
   ],
   "source": [
    "model = keras.Sequential([\n",
    "    keras.layers.Dense(60, input_dim=60,activation='relu'),\n",
    "    keras.layers.Dense(30,activation='relu'),\n",
    "    keras.layers.Dense(15,activation='relu'),\n",
    "    keras.layers.Dense(1, activation='sigmoid')\n",
    "])\n",
    "\n",
    "model.compile(\n",
    "    loss='binary_crossentropy',\n",
    "    optimizer='adam',\n",
    "    metrics=['accuracy']\n",
    "    \n",
    ")\n",
    "\n",
    "model.fit(X_train, y_train, epochs=100, batch_size = 8)"
   ]
  },
  {
   "cell_type": "code",
   "execution_count": 34,
   "metadata": {},
   "outputs": [
    {
     "name": "stdout",
     "output_type": "stream",
     "text": [
      "2/2 [==============================] - 0s 4ms/step - loss: 1.0768 - accuracy: 0.7692\n"
     ]
    },
    {
     "data": {
      "text/plain": [
       "[1.076755166053772, 0.7692307829856873]"
      ]
     },
     "execution_count": 34,
     "metadata": {},
     "output_type": "execute_result"
    }
   ],
   "source": [
    "model.evaluate(X_test, y_test)"
   ]
  },
  {
   "cell_type": "code",
   "execution_count": 35,
   "metadata": {},
   "outputs": [
    {
     "name": "stdout",
     "output_type": "stream",
     "text": [
      "[1.8144672e-07 8.3252877e-01 9.8395371e-01 4.8463453e-06 9.9996686e-01\n",
      " 9.9900961e-01 2.3684299e-02 9.9999523e-01 5.5078614e-05 9.9998546e-01]\n",
      "[0. 1. 1. 0. 1. 1. 0. 1. 0. 1.]\n"
     ]
    }
   ],
   "source": [
    "y_pred = model.predict(X_test).reshape(-1)\n",
    "print(y_pred[:10])\n",
    "\n",
    "y_pred = np.round(y_pred)\n",
    "print(y_pred[:10])"
   ]
  },
  {
   "cell_type": "code",
   "execution_count": 36,
   "metadata": {},
   "outputs": [
    {
     "data": {
      "text/html": [
       "<div>\n",
       "<style scoped>\n",
       "    .dataframe tbody tr th:only-of-type {\n",
       "        vertical-align: middle;\n",
       "    }\n",
       "\n",
       "    .dataframe tbody tr th {\n",
       "        vertical-align: top;\n",
       "    }\n",
       "\n",
       "    .dataframe thead th {\n",
       "        text-align: right;\n",
       "    }\n",
       "</style>\n",
       "<table border=\"1\" class=\"dataframe\">\n",
       "  <thead>\n",
       "    <tr style=\"text-align: right;\">\n",
       "      <th></th>\n",
       "      <th>R</th>\n",
       "    </tr>\n",
       "  </thead>\n",
       "  <tbody>\n",
       "    <tr>\n",
       "      <th>186</th>\n",
       "      <td>0</td>\n",
       "    </tr>\n",
       "    <tr>\n",
       "      <th>155</th>\n",
       "      <td>0</td>\n",
       "    </tr>\n",
       "    <tr>\n",
       "      <th>165</th>\n",
       "      <td>0</td>\n",
       "    </tr>\n",
       "    <tr>\n",
       "      <th>200</th>\n",
       "      <td>0</td>\n",
       "    </tr>\n",
       "    <tr>\n",
       "      <th>58</th>\n",
       "      <td>1</td>\n",
       "    </tr>\n",
       "    <tr>\n",
       "      <th>34</th>\n",
       "      <td>1</td>\n",
       "    </tr>\n",
       "    <tr>\n",
       "      <th>151</th>\n",
       "      <td>0</td>\n",
       "    </tr>\n",
       "    <tr>\n",
       "      <th>18</th>\n",
       "      <td>1</td>\n",
       "    </tr>\n",
       "    <tr>\n",
       "      <th>202</th>\n",
       "      <td>0</td>\n",
       "    </tr>\n",
       "    <tr>\n",
       "      <th>62</th>\n",
       "      <td>1</td>\n",
       "    </tr>\n",
       "  </tbody>\n",
       "</table>\n",
       "</div>"
      ],
      "text/plain": [
       "     R\n",
       "186  0\n",
       "155  0\n",
       "165  0\n",
       "200  0\n",
       "58   1\n",
       "34   1\n",
       "151  0\n",
       "18   1\n",
       "202  0\n",
       "62   1"
      ]
     },
     "execution_count": 36,
     "metadata": {},
     "output_type": "execute_result"
    }
   ],
   "source": [
    "y_test[:10]"
   ]
  },
  {
   "cell_type": "code",
   "execution_count": 37,
   "metadata": {},
   "outputs": [
    {
     "name": "stdout",
     "output_type": "stream",
     "text": [
      "              precision    recall  f1-score   support\n",
      "\n",
      "           0       0.73      0.89      0.80        27\n",
      "           1       0.84      0.64      0.73        25\n",
      "\n",
      "    accuracy                           0.77        52\n",
      "   macro avg       0.78      0.76      0.76        52\n",
      "weighted avg       0.78      0.77      0.77        52\n",
      "\n"
     ]
    }
   ],
   "source": [
    "from sklearn.metrics import confusion_matrix, classification_report\n",
    "print(classification_report(y_test, y_pred))"
   ]
  },
  {
   "cell_type": "code",
   "execution_count": 44,
   "metadata": {},
   "outputs": [
    {
     "name": "stdout",
     "output_type": "stream",
     "text": [
      "Epoch 1/100\n",
      "52/52 [==============================] - 0s 3ms/step - loss: 0.6880 - accuracy: 0.5064\n",
      "Epoch 2/100\n",
      "52/52 [==============================] - 0s 4ms/step - loss: 0.6960 - accuracy: 0.4808\n",
      "Epoch 3/100\n",
      "52/52 [==============================] - 0s 7ms/step - loss: 0.6849 - accuracy: 0.5833\n",
      "Epoch 4/100\n",
      "52/52 [==============================] - 0s 5ms/step - loss: 0.7074 - accuracy: 0.5449\n",
      "Epoch 5/100\n",
      "52/52 [==============================] - 0s 6ms/step - loss: 0.6989 - accuracy: 0.5385\n",
      "Epoch 6/100\n",
      "52/52 [==============================] - 0s 8ms/step - loss: 0.6914 - accuracy: 0.4936\n",
      "Epoch 7/100\n",
      "52/52 [==============================] - 0s 5ms/step - loss: 0.6842 - accuracy: 0.5321\n",
      "Epoch 8/100\n",
      "52/52 [==============================] - 0s 6ms/step - loss: 0.6967 - accuracy: 0.5000\n",
      "Epoch 9/100\n",
      "52/52 [==============================] - 0s 7ms/step - loss: 0.6941 - accuracy: 0.5064\n",
      "Epoch 10/100\n",
      "52/52 [==============================] - 0s 6ms/step - loss: 0.6872 - accuracy: 0.5705: 0s - loss: 0.6811 - accura\n",
      "Epoch 11/100\n",
      "52/52 [==============================] - 0s 7ms/step - loss: 0.6901 - accuracy: 0.5641\n",
      "Epoch 12/100\n",
      "52/52 [==============================] - 0s 7ms/step - loss: 0.6868 - accuracy: 0.5064\n",
      "Epoch 13/100\n",
      "52/52 [==============================] - 0s 6ms/step - loss: 0.6929 - accuracy: 0.5192\n",
      "Epoch 14/100\n",
      "52/52 [==============================] - 0s 6ms/step - loss: 0.6898 - accuracy: 0.5385\n",
      "Epoch 15/100\n",
      "52/52 [==============================] - 0s 6ms/step - loss: 0.6919 - accuracy: 0.5256\n",
      "Epoch 16/100\n",
      "52/52 [==============================] - 0s 6ms/step - loss: 0.7006 - accuracy: 0.4936\n",
      "Epoch 17/100\n",
      "52/52 [==============================] - 0s 6ms/step - loss: 0.6982 - accuracy: 0.5064\n",
      "Epoch 18/100\n",
      "52/52 [==============================] - 0s 7ms/step - loss: 0.6865 - accuracy: 0.5449\n",
      "Epoch 19/100\n",
      "52/52 [==============================] - 0s 6ms/step - loss: 0.6938 - accuracy: 0.5385\n",
      "Epoch 20/100\n",
      "52/52 [==============================] - 0s 8ms/step - loss: 0.6921 - accuracy: 0.5321\n",
      "Epoch 21/100\n",
      "52/52 [==============================] - 1s 10ms/step - loss: 0.6910 - accuracy: 0.5513\n",
      "Epoch 22/100\n",
      "52/52 [==============================] - 1s 10ms/step - loss: 0.6891 - accuracy: 0.5449\n",
      "Epoch 23/100\n",
      "52/52 [==============================] - 1s 10ms/step - loss: 0.6845 - accuracy: 0.5385\n",
      "Epoch 24/100\n",
      "52/52 [==============================] - 1s 10ms/step - loss: 0.6899 - accuracy: 0.5449\n",
      "Epoch 25/100\n",
      "52/52 [==============================] - 0s 10ms/step - loss: 0.6879 - accuracy: 0.5385\n",
      "Epoch 26/100\n",
      "52/52 [==============================] - 1s 10ms/step - loss: 0.6886 - accuracy: 0.5385\n",
      "Epoch 27/100\n",
      "52/52 [==============================] - 0s 10ms/step - loss: 0.6965 - accuracy: 0.5321\n",
      "Epoch 28/100\n",
      "52/52 [==============================] - 0s 9ms/step - loss: 0.6868 - accuracy: 0.5385\n",
      "Epoch 29/100\n",
      "52/52 [==============================] - 0s 9ms/step - loss: 0.6907 - accuracy: 0.5385\n",
      "Epoch 30/100\n",
      "52/52 [==============================] - 1s 10ms/step - loss: 0.6950 - accuracy: 0.5449\n",
      "Epoch 31/100\n",
      "52/52 [==============================] - 1s 10ms/step - loss: 0.6882 - accuracy: 0.5385\n",
      "Epoch 32/100\n",
      "52/52 [==============================] - 1s 10ms/step - loss: 0.6836 - accuracy: 0.5385\n",
      "Epoch 33/100\n",
      "52/52 [==============================] - 1s 10ms/step - loss: 0.6943 - accuracy: 0.5385\n",
      "Epoch 34/100\n",
      "52/52 [==============================] - 1s 10ms/step - loss: 0.6888 - accuracy: 0.5385\n",
      "Epoch 35/100\n",
      "52/52 [==============================] - 1s 12ms/step - loss: 0.7041 - accuracy: 0.5385\n",
      "Epoch 36/100\n",
      "52/52 [==============================] - 1s 11ms/step - loss: 0.6883 - accuracy: 0.5385\n",
      "Epoch 37/100\n",
      "52/52 [==============================] - 1s 12ms/step - loss: 0.6871 - accuracy: 0.5385\n",
      "Epoch 38/100\n",
      "52/52 [==============================] - 1s 11ms/step - loss: 0.6889 - accuracy: 0.5385\n",
      "Epoch 39/100\n",
      "52/52 [==============================] - 1s 12ms/step - loss: 0.6845 - accuracy: 0.5385\n",
      "Epoch 40/100\n",
      "52/52 [==============================] - 1s 11ms/step - loss: 0.6976 - accuracy: 0.5321\n",
      "Epoch 41/100\n",
      "52/52 [==============================] - 1s 10ms/step - loss: 0.6834 - accuracy: 0.5385\n",
      "Epoch 42/100\n",
      "52/52 [==============================] - 1s 10ms/step - loss: 0.6965 - accuracy: 0.5385\n",
      "Epoch 43/100\n",
      "52/52 [==============================] - 1s 10ms/step - loss: 0.6948 - accuracy: 0.5321\n",
      "Epoch 44/100\n",
      "52/52 [==============================] - 1s 10ms/step - loss: 0.6926 - accuracy: 0.5385\n",
      "Epoch 45/100\n",
      "52/52 [==============================] - 0s 10ms/step - loss: 0.6789 - accuracy: 0.5449\n",
      "Epoch 46/100\n",
      "52/52 [==============================] - 0s 9ms/step - loss: 0.6823 - accuracy: 0.5385\n",
      "Epoch 47/100\n",
      "52/52 [==============================] - 0s 10ms/step - loss: 0.6929 - accuracy: 0.5256\n",
      "Epoch 48/100\n",
      "52/52 [==============================] - 0s 10ms/step - loss: 0.6804 - accuracy: 0.5321\n",
      "Epoch 49/100\n",
      "52/52 [==============================] - 0s 10ms/step - loss: 0.6885 - accuracy: 0.5385\n",
      "Epoch 50/100\n",
      "52/52 [==============================] - 0s 9ms/step - loss: 0.6753 - accuracy: 0.5385\n",
      "Epoch 51/100\n",
      "52/52 [==============================] - 0s 9ms/step - loss: 0.6825 - accuracy: 0.5385\n",
      "Epoch 52/100\n",
      "52/52 [==============================] - 1s 10ms/step - loss: 0.7011 - accuracy: 0.5385\n",
      "Epoch 53/100\n",
      "52/52 [==============================] - 1s 10ms/step - loss: 0.6811 - accuracy: 0.5385\n",
      "Epoch 54/100\n",
      "52/52 [==============================] - 0s 9ms/step - loss: 0.6812 - accuracy: 0.5385\n",
      "Epoch 55/100\n",
      "52/52 [==============================] - 0s 9ms/step - loss: 0.6854 - accuracy: 0.5321\n",
      "Epoch 56/100\n",
      "52/52 [==============================] - 1s 10ms/step - loss: 0.6816 - accuracy: 0.5385\n",
      "Epoch 57/100\n",
      "52/52 [==============================] - 0s 10ms/step - loss: 0.6762 - accuracy: 0.5449\n",
      "Epoch 58/100\n",
      "52/52 [==============================] - 0s 9ms/step - loss: 0.6996 - accuracy: 0.5385\n",
      "Epoch 59/100\n",
      "52/52 [==============================] - 0s 9ms/step - loss: 0.6751 - accuracy: 0.5385\n",
      "Epoch 60/100\n",
      "52/52 [==============================] - 0s 9ms/step - loss: 0.6809 - accuracy: 0.5385\n",
      "Epoch 61/100\n",
      "52/52 [==============================] - 0s 9ms/step - loss: 0.6861 - accuracy: 0.5385\n",
      "Epoch 62/100\n",
      "52/52 [==============================] - 0s 9ms/step - loss: 0.6670 - accuracy: 0.5385\n",
      "Epoch 63/100\n",
      "52/52 [==============================] - 1s 10ms/step - loss: 0.7065 - accuracy: 0.5385\n",
      "Epoch 64/100\n",
      "52/52 [==============================] - 0s 9ms/step - loss: 0.6616 - accuracy: 0.5385\n",
      "Epoch 65/100\n",
      "52/52 [==============================] - 0s 9ms/step - loss: 0.6702 - accuracy: 0.5449\n",
      "Epoch 66/100\n",
      "52/52 [==============================] - 0s 9ms/step - loss: 0.6635 - accuracy: 0.5256\n",
      "Epoch 67/100\n",
      "52/52 [==============================] - 0s 9ms/step - loss: 0.6637 - accuracy: 0.5321\n",
      "Epoch 68/100\n",
      "52/52 [==============================] - 1s 11ms/step - loss: 0.6408 - accuracy: 0.5385\n",
      "Epoch 69/100\n",
      "52/52 [==============================] - 0s 6ms/step - loss: 0.6710 - accuracy: 0.5385\n",
      "Epoch 70/100\n",
      "52/52 [==============================] - 1s 11ms/step - loss: 0.6783 - accuracy: 0.5385\n",
      "Epoch 71/100\n",
      "52/52 [==============================] - 1s 11ms/step - loss: 0.6676 - accuracy: 0.5385\n",
      "Epoch 72/100\n",
      "52/52 [==============================] - 1s 10ms/step - loss: 0.6130 - accuracy: 0.5385\n",
      "Epoch 73/100\n",
      "52/52 [==============================] - 0s 6ms/step - loss: 0.6457 - accuracy: 0.5321\n",
      "Epoch 74/100\n",
      "52/52 [==============================] - 1s 10ms/step - loss: 0.6353 - accuracy: 0.5385\n",
      "Epoch 75/100\n",
      "52/52 [==============================] - 0s 6ms/step - loss: 0.6471 - accuracy: 0.5449\n",
      "Epoch 76/100\n",
      "52/52 [==============================] - 0s 6ms/step - loss: 0.6098 - accuracy: 0.6731\n",
      "Epoch 77/100\n",
      "52/52 [==============================] - 0s 7ms/step - loss: 0.6589 - accuracy: 0.6538\n",
      "Epoch 78/100\n",
      "52/52 [==============================] - 0s 8ms/step - loss: 0.6279 - accuracy: 0.6987\n",
      "Epoch 79/100\n",
      "52/52 [==============================] - 1s 12ms/step - loss: 0.6181 - accuracy: 0.6603\n",
      "Epoch 80/100\n",
      "52/52 [==============================] - 1s 12ms/step - loss: 0.6152 - accuracy: 0.7179\n",
      "Epoch 81/100\n",
      "52/52 [==============================] - 0s 9ms/step - loss: 0.6750 - accuracy: 0.6218\n",
      "Epoch 82/100\n"
     ]
    },
    {
     "name": "stdout",
     "output_type": "stream",
     "text": [
      "52/52 [==============================] - 0s 6ms/step - loss: 0.5856 - accuracy: 0.7115\n",
      "Epoch 83/100\n",
      "52/52 [==============================] - 1s 11ms/step - loss: 0.5903 - accuracy: 0.7051\n",
      "Epoch 84/100\n",
      "52/52 [==============================] - 0s 9ms/step - loss: 0.6109 - accuracy: 0.7179\n",
      "Epoch 85/100\n",
      "52/52 [==============================] - 1s 12ms/step - loss: 0.6227 - accuracy: 0.6859\n",
      "Epoch 86/100\n",
      "52/52 [==============================] - 1s 12ms/step - loss: 0.5897 - accuracy: 0.7308\n",
      "Epoch 87/100\n",
      "52/52 [==============================] - 1s 10ms/step - loss: 0.5816 - accuracy: 0.6667\n",
      "Epoch 88/100\n",
      "52/52 [==============================] - 0s 9ms/step - loss: 0.5670 - accuracy: 0.7051\n",
      "Epoch 89/100\n",
      "52/52 [==============================] - 1s 12ms/step - loss: 0.5960 - accuracy: 0.7436\n",
      "Epoch 90/100\n",
      "52/52 [==============================] - 1s 11ms/step - loss: 0.6131 - accuracy: 0.7179\n",
      "Epoch 91/100\n",
      "52/52 [==============================] - 0s 10ms/step - loss: 0.5917 - accuracy: 0.7372\n",
      "Epoch 92/100\n",
      "52/52 [==============================] - 1s 12ms/step - loss: 0.5803 - accuracy: 0.6859\n",
      "Epoch 93/100\n",
      "52/52 [==============================] - 1s 11ms/step - loss: 0.6060 - accuracy: 0.7308\n",
      "Epoch 94/100\n",
      "52/52 [==============================] - 1s 11ms/step - loss: 0.6132 - accuracy: 0.6667\n",
      "Epoch 95/100\n",
      "52/52 [==============================] - 1s 11ms/step - loss: 0.5741 - accuracy: 0.7821\n",
      "Epoch 96/100\n",
      "52/52 [==============================] - 1s 12ms/step - loss: 0.5929 - accuracy: 0.7244\n",
      "Epoch 97/100\n",
      "52/52 [==============================] - 1s 11ms/step - loss: 0.6128 - accuracy: 0.6410\n",
      "Epoch 98/100\n",
      "52/52 [==============================] - 1s 11ms/step - loss: 0.6141 - accuracy: 0.7115\n",
      "Epoch 99/100\n",
      "52/52 [==============================] - 1s 11ms/step - loss: 0.6113 - accuracy: 0.7179\n",
      "Epoch 100/100\n",
      "52/52 [==============================] - 1s 11ms/step - loss: 0.5584 - accuracy: 0.7372\n"
     ]
    },
    {
     "data": {
      "text/plain": [
       "<tensorflow.python.keras.callbacks.History at 0x17bb56a6ca0>"
      ]
     },
     "execution_count": 44,
     "metadata": {},
     "output_type": "execute_result"
    }
   ],
   "source": [
    "modeld = keras.Sequential([\n",
    "    keras.layers.Dense(60, input_dim=60,activation='relu'),\n",
    "    keras.layers.Dropout(0.5),\n",
    "    keras.layers.Dense(30,activation='relu'),\n",
    "    keras.layers.Dropout(0.4),\n",
    "    keras.layers.Dense(15,activation='relu'),\n",
    "    keras.layers.Dropout(0.4),\n",
    "    keras.layers.Dense(11,activation='relu'),\n",
    "    keras.layers.Dropout(0.3),\n",
    "    keras.layers.Dense(7,activation='relu'),\n",
    "    keras.layers.Dropout(0.3),\n",
    "    keras.layers.Dense(4,activation='relu'),\n",
    "    keras.layers.Dropout(0.2),\n",
    "    keras.layers.Dense(1, activation='sigmoid')\n",
    "])\n",
    "\n",
    "modeld.compile(\n",
    "    loss='binary_crossentropy',\n",
    "    optimizer='adam',\n",
    "    metrics=['accuracy']\n",
    "    \n",
    ")\n",
    "\n",
    "modeld.fit(X_train, y_train, epochs=100, batch_size = 3)"
   ]
  },
  {
   "cell_type": "code",
   "execution_count": 45,
   "metadata": {},
   "outputs": [
    {
     "name": "stdout",
     "output_type": "stream",
     "text": [
      "WARNING:tensorflow:5 out of the last 11 calls to <function Model.make_test_function.<locals>.test_function at 0x0000017BB68D2E50> triggered tf.function retracing. Tracing is expensive and the excessive number of tracings could be due to (1) creating @tf.function repeatedly in a loop, (2) passing tensors with different shapes, (3) passing Python objects instead of tensors. For (1), please define your @tf.function outside of the loop. For (2), @tf.function has experimental_relax_shapes=True option that relaxes argument shapes that can avoid unnecessary retracing. For (3), please refer to https://www.tensorflow.org/tutorials/customization/performance#python_or_tensor_args and https://www.tensorflow.org/api_docs/python/tf/function for  more details.\n",
      "2/2 [==============================] - 0s 4ms/step - loss: 0.5201 - accuracy: 0.7308\n"
     ]
    },
    {
     "data": {
      "text/plain": [
       "[0.5201414823532104, 0.7307692170143127]"
      ]
     },
     "execution_count": 45,
     "metadata": {},
     "output_type": "execute_result"
    }
   ],
   "source": [
    "modeld.evaluate(X_test, y_test)"
   ]
  },
  {
   "cell_type": "code",
   "execution_count": 46,
   "metadata": {},
   "outputs": [
    {
     "name": "stdout",
     "output_type": "stream",
     "text": [
      "              precision    recall  f1-score   support\n",
      "\n",
      "           0       0.74      0.74      0.74        27\n",
      "           1       0.72      0.72      0.72        25\n",
      "\n",
      "    accuracy                           0.73        52\n",
      "   macro avg       0.73      0.73      0.73        52\n",
      "weighted avg       0.73      0.73      0.73        52\n",
      "\n"
     ]
    }
   ],
   "source": [
    "y_pred = modeld.predict(X_test).reshape(-1)\n",
    "\n",
    "y_pred = np.round(y_pred)\n",
    "\n",
    "from sklearn.metrics import confusion_matrix, classification_report\n",
    "print(classification_report(y_test, y_pred))"
   ]
  },
  {
   "cell_type": "code",
   "execution_count": null,
   "metadata": {},
   "outputs": [],
   "source": []
  },
  {
   "cell_type": "code",
   "execution_count": null,
   "metadata": {},
   "outputs": [],
   "source": []
  },
  {
   "cell_type": "code",
   "execution_count": null,
   "metadata": {},
   "outputs": [],
   "source": []
  },
  {
   "cell_type": "code",
   "execution_count": null,
   "metadata": {},
   "outputs": [],
   "source": []
  }
 ],
 "metadata": {
  "kernelspec": {
   "display_name": "Python 3",
   "language": "python",
   "name": "python3"
  },
  "language_info": {
   "codemirror_mode": {
    "name": "ipython",
    "version": 3
   },
   "file_extension": ".py",
   "mimetype": "text/x-python",
   "name": "python",
   "nbconvert_exporter": "python",
   "pygments_lexer": "ipython3",
   "version": "3.8.6"
  }
 },
 "nbformat": 4,
 "nbformat_minor": 4
}
